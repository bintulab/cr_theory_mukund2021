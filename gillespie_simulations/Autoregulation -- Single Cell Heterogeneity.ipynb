{
 "cells": [
  {
   "cell_type": "code",
   "execution_count": 111,
   "metadata": {},
   "outputs": [],
   "source": [
    "import matplotlib.pyplot as plt\n",
    "import matplotlib as mpl\n",
    "import seaborn as sns\n",
    "import numpy as np\n",
    "import pandas as pd\n",
    "import time\n",
    "import random\n",
    "import tqdm.notebook as tqdm\n",
    "\n",
    "mpl.rcParams['pdf.fonttype'] = 42\n",
    "plt.rcParams[\"font.family\"] = \"Arial\"\n",
    "sns.set_style(\"ticks\", { \"xtick.major.size\": 4, \"ytick.major.size\": 4, \"font_color\":'k', 'axes.edgecolor': 'k', 'xtick.color': 'k', 'ytick.color': 'k'})"
   ]
  },
  {
   "cell_type": "code",
   "execution_count": 90,
   "metadata": {},
   "outputs": [],
   "source": [
    "def hill(x, kd, n):\n",
    "    return x**n/(x**n + kd**n)\n",
    "\n",
    "def biased_flip(prob_true=0.5):\n",
    "    if random.random() < prob_true:\n",
    "        return 1.0\n",
    "    else:\n",
    "        return 0.0\n",
    "\n",
    "def simulate_cell(p_prd, p_deg, ka, ks_max, sim_runtime, starting_p_on):\n",
    "    t_states = [0.0]\n",
    "    g_state = biased_flip(starting_p_on)\n",
    "    g_states = [g_state]\n",
    "    max_p = (1.0*p_prd)/p_deg\n",
    "    p_states = [0 if g_state==0 else max_p]\n",
    "    \n",
    "    timepoints = np.linspace(0, sim_runtime, 1000).tolist()\n",
    "    timevalues = [g_state]\n",
    "    cur_timepoint_ind = 1\n",
    "        \n",
    "    while t_states[-1] < sim_runtime: \n",
    "        g_state = g_states[-1]\n",
    "        p_state = p_states[-1]\n",
    "        t_state = t_states[-1]\n",
    "\n",
    "        if g_state == 0: #OFF\n",
    "            rate_p_deg = p_deg * p_state\n",
    "            rate_g_on  = ka \n",
    "            if p_state > 0:\n",
    "                dart = np.random.uniform(0.0, rate_p_deg + rate_g_on)\n",
    "                timestep = np.random.exponential(1.0/(rate_p_deg + rate_g_on))\n",
    "                if dart < rate_p_deg: # degrade \n",
    "                    g_states.append(g_state)\n",
    "                    p_states.append(p_state - 1)\n",
    "                elif dart >= rate_p_deg: # turn gene ON \n",
    "                    g_states.append(g_state + 1)\n",
    "                    p_states.append(p_state)\n",
    "            elif p_state == 0:\n",
    "                timestep = np.random.exponential(1.0/rate_g_on)\n",
    "                g_states.append(g_state + 1)\n",
    "                p_states.append(p_state)\n",
    "        elif g_state == 1: #ON\n",
    "            rate_p_deg = p_deg * p_state\n",
    "            rate_p_prd = p_prd\n",
    "            rate_g_off = ks_max * hill(p_state, max_p/3.0, 3.0) # ultrasensitive response\n",
    "            if p_state > 0:\n",
    "                dart = np.random.uniform(0.0, rate_p_deg + rate_p_prd + rate_g_off)\n",
    "                timestep = np.random.exponential(1.0/(rate_p_deg + rate_p_prd + rate_g_off))                \n",
    "                if dart < rate_p_deg: # degrade\n",
    "                    g_states.append(g_state)\n",
    "                    p_states.append(p_state - 1)\n",
    "                elif dart >= rate_p_deg and dart < rate_p_deg + rate_p_prd: # produce\n",
    "                    g_states.append(g_state)\n",
    "                    p_states.append(p_state + 1)\n",
    "                elif dart >= rate_p_deg + rate_p_prd: #turn gene off\n",
    "                    g_states.append(g_state - 1)\n",
    "                    p_states.append(p_state)\n",
    "            elif p_state == 0: \n",
    "                dart = np.random.uniform(0.0, rate_p_prd + rate_g_off) \n",
    "                timestep = np.random.exponential(1.0/(rate_p_prd + rate_g_off))\n",
    "                if dart < rate_p_prd: # produce\n",
    "                    g_states.append(g_state)\n",
    "                    p_states.append(p_state + 1)\n",
    "                elif dart >= rate_p_prd: # turn gene off\n",
    "                    g_states.append(g_state - 1)\n",
    "                    p_states.append(p_state)\n",
    "        t_states.append(t_state + timestep)        \n",
    "\n",
    "        while (cur_timepoint_ind < len(timepoints)) and (timepoints[cur_timepoint_ind] > t_states[-2]) and (timepoints[cur_timepoint_ind] <= t_states[-1]):\n",
    "            timevalues.append(g_states[-2])\n",
    "            cur_timepoint_ind = cur_timepoint_ind+1\n",
    "\n",
    "    return [t_states, g_states, p_states, timepoints, timevalues]\n",
    "\n",
    "def plot_cell(cell_array, ax, title, steadystate, pprod, pdeg, ks, tlim = 2):\n",
    "    times = cell_array[0]\n",
    "    gene_states = cell_array[1]\n",
    "    mrna_states = cell_array[2]\n",
    "    \n",
    "    ax.step(times, mrna_states, color='tab:blue')\n",
    "    ax.set_xlabel('Time (Days)')\n",
    "    ax.set_ylabel('Prot. (AU)', color='tab:blue')\n",
    "    ax.set_ylim(0, 2*(pprod/pdeg))\n",
    "    ax.set_yticks([0, (pprod/pdeg)])\n",
    "    ax.hlines(pprod/pdeg, xmin=0, xmax=tlim, linestyles='dashed', label='', zorder=10)\n",
    "\n",
    "     \n",
    "    ax.tick_params(axis='y', labelcolor='tab:blue')\n",
    "    ax.set_xlim(0, tlim)\n",
    "    ax.set_xticks([0, tlim/2, tlim])\n",
    "       \n",
    "    ax1 = ax.twinx()\n",
    "    ax1.set_ylabel('Gene', color='tab:red')\n",
    "    ax1.step(times, gene_states, color='tab:red', where='post')    \n",
    "    ax1.tick_params(axis='y', labelcolor='tab:red')\n",
    "    ax1.set_yticks([0, 1])\n",
    "    ax1.set_yticklabels([\"Off\", \"On\"])\n",
    "    \n",
    "    ax2 = ax.twinx()\n",
    "    ax2.fill_between(\n",
    "        times, \n",
    "        gene_states, \n",
    "        step=\"post\", \n",
    "        facecolor='tab:red', \n",
    "        alpha=0.1)\n",
    "    ax2.tick_params(axis='y', labelcolor='tab:red')\n",
    "    ax2.set_yticks([])\n",
    "    \n",
    "    ax.set_title(title)\n",
    "    \n",
    "#     ax.set_ylim(0,1)\n",
    "    ax1.set_ylim(0,1)\n",
    "    ax2.set_ylim(0,1)\n",
    "    \n",
    "    df = pd.DataFrame.from_dict({\n",
    "        'time'  : times,\n",
    "        'gene'  : [g + 0.1 if g == 1 else 0 for g in gene_states],\n",
    "        'prot'  : mrna_states,\n",
    "        'pprod' : [pprod for t in times],\n",
    "        'pdeg'  : [pdeg for t in times],\n",
    "        'sstate' : [pprod/pdeg for t in times],\n",
    "        'ks' : [ks for t in times]\n",
    "    })\n",
    "    return df"
   ]
  },
  {
   "cell_type": "code",
   "execution_count": 129,
   "metadata": {},
   "outputs": [
    {
     "data": {
      "image/png": "[encoded data removed]",
      "text/plain": [
       "<Figure size 504x360 with 12 Axes>"
      ]
     },
     "metadata": {},
     "output_type": "display_data"
    }
   ],
   "source": [
    "fig, ax = plt.subplots(2, 2, figsize=(7, 5))\n",
    "\n",
    "for i in range(len(ax)):\n",
    "    for j in range(len(ax[i])):\n",
    "        c = simulate_cell(5000, 100, 1, 1, 10, 1)\n",
    "        p = plot_cell(c, ax[i][j], \"Cell \"+str(2*i + j + 1), 500, 50, 1, 1, 10)\n",
    "\n",
    "fig.tight_layout()\n",
    "fig.savefig('./gillespie_single_cell_examples.pdf', bbox_inches = 'tight')"
   ]
  },
  {
   "cell_type": "code",
   "execution_count": 115,
   "metadata": {},
   "outputs": [],
   "source": [
    "def get_relevant_idx(t, target, start_idx=0):\n",
    "    if t[0] >= target:\n",
    "        return 0\n",
    "    for i in range(start_idx, len(t)-1):\n",
    "        if t[i] < target and t[i+1] >= target:\n",
    "            return i\n",
    "    return len(t)-1\n",
    "\n",
    "def scan_for_timepoint_idx(times, timepoints, sim_runtime):\n",
    "    scan_idxs = [-1 for t in timepoints]\n",
    "    for i in range(len(timepoints)):\n",
    "        scan_idxs[i] = get_relevant_idx(times, timepoints[i])\n",
    "    \n",
    "    return scan_idxs\n",
    "\n",
    "def scan_for_on_cells(cells, sim_runtime):\n",
    "    timepoints = np.linspace(0, sim_runtime, 100)\n",
    "    gene_exps = [c[1] for c in cells]\n",
    "    time_vals = [c[0] for c in cells]\n",
    "    gene_filt = [[gene_exps[row][col] \n",
    "                                  for col in scan_for_timepoint_idx(time_vals[row], timepoints, sim_runtime)] \n",
    "                                  for row in range(len(gene_exps))]\n",
    "    ons = np.divide(np.sum(np.asmatrix(gene_filt), axis=0).tolist()[0], len(gene_filt))\n",
    "    #ons = [np.mean([g[row][col] for row in range(len(gene_filt))]) for col in range(len(gene_filt[0]))]\n",
    "    return timepoints, ons\n",
    "\n",
    "def count_on_cells(cells, time):\n",
    "    count = 0\n",
    "    idx = 0\n",
    "    \n",
    "    for c in cells:\n",
    "        t = c[0]\n",
    "        g = c[1]\n",
    "        \n",
    "        idx = get_relevant_idx(t, time, idx)\n",
    "        if g[idx] == 1:\n",
    "            count = count + 1\n",
    "    return (count * 1.0)/len(cells)\n",
    "\n",
    "def simulate_many_cells(p_prd, p_deg, ka, ks_max, sim_runtime, n_cells, starting_p_on):\n",
    "    cells = [simulate_cell(p_prd, p_deg, ka, ks_max, sim_runtime, starting_p_on) for c in tqdm.trange(n_cells)]\n",
    "    \n",
    "    timepoints = [c[3] for c in cells]\n",
    "    p_ons = [c[4] for c in cells]\n",
    "    p_ons = np.mean(np.asmatrix(p_ons), axis=0).tolist()[0]\n",
    "    \n",
    "    final_protein_states = [c[2][-1] for c in cells]\n",
    "    \n",
    "    return [timepoints[0], p_ons, final_protein_states]\n",
    "\n",
    "def get_many_cells(p_prd, p_deg, ka, ks_max, sim_runtime, n_cells, starting_p_on):\n",
    "    timepoints, p_ons, protein_states = simulate_many_cells(p_prd, p_deg, \n",
    "                                                            ka, ks_max, \n",
    "                                                            sim_runtime, n_cells, starting_p_on)\n",
    "    return [timepoints, p_ons, protein_states]\n",
    "\n",
    "def plot_many_curves(ax, pprod, pdeg, ka, ks, plot_legend=False, fsize=16):\n",
    "    pcts = [0.0, 0.25, 0.5, 0.75, 1.0]\n",
    "    \n",
    "    # let's build the dataframes\n",
    "    times = []\n",
    "    p_ons = []\n",
    "    starting_ons = []\n",
    "    kas = []\n",
    "    kss = []\n",
    "    pprods = []\n",
    "    pdegs = []\n",
    "    \n",
    "    p_starting_ons = []\n",
    "    p_kas = []\n",
    "    p_kss = []\n",
    "    p_pprods = []\n",
    "    p_pdegs = []\n",
    "    p_final_ps = []\n",
    "    \n",
    "    for i in range(len(pcts)):\n",
    "        p = pcts[i]\n",
    "        c = get_many_cells(pprod, pdeg, ka, ks, 10, 100, p)\n",
    "                \n",
    "        ts = c[0]\n",
    "        ps = c[1]\n",
    "        ss = [p for t in ts]\n",
    "        ka_vals = [ka for t in ts]\n",
    "        ks_vals = [ks for t in ts]\n",
    "        pprod_vals = [pprod for t in ts]\n",
    "        pdeg_vals = [pdeg for t in ts]              \n",
    "        times.extend(ts)\n",
    "        p_ons.extend(ps)\n",
    "        starting_ons.extend(ss)\n",
    "        kas.extend(ka_vals)\n",
    "        kss.extend(ks_vals)\n",
    "        pprods.extend(pprod_vals)\n",
    "        pdegs.extend(pdeg_vals)\n",
    "        \n",
    "        final_ps = [x/((1.0*pprod)/pdeg) for x in c[2]]\n",
    "        pkas =    [ka for f in final_ps]\n",
    "        pkss =    [ks for f in final_ps]\n",
    "        ppprods = [pprod for f in final_ps]\n",
    "        ppdegs =  [pdeg for f in final_ps]\n",
    "        pa0s =    [p for f in final_ps]\n",
    "        p_starting_ons.extend(pa0s)\n",
    "        p_kas.extend(pkas)\n",
    "        p_kss.extend(pkss)\n",
    "        p_pprods.extend(ppprods)\n",
    "        p_pdegs.extend(ppdegs)\n",
    "        p_final_ps.extend(final_ps)\n",
    "        \n",
    "    df = pd.DataFrame.from_dict({\n",
    "        \"Time\" : times,\n",
    "        \"Fraction On\" : p_ons,\n",
    "        \"A(0)\" : starting_ons,\n",
    "        \"ka\" : kas,\n",
    "        \"ks\" : kss,\n",
    "        \"pprod\" : pprods,\n",
    "        \"pdeg\" : pdegs\n",
    "    })\n",
    "        \n",
    "    leg = \"full\" if plot_legend else False\n",
    "    g = sns.lineplot(x=\"Time\", y=\"Fraction On\", hue=\"A(0)\", data=df, \n",
    "                     palette='viridis', legend=leg, linewidth=4, ax=ax)\n",
    "            \n",
    "    #g.legend(loc='upper right')\n",
    "    g.set_xlabel('Time (days)', fontsize=fsize)\n",
    "    g.set_ylabel('Fraction On', fontsize=fsize)\n",
    "    g.set_xlim([0.0, 10.0])\n",
    "    g.set_xticks([0, 5, 10])\n",
    "    g.set_xticklabels([0, 5, 10], fontsize=fsize)\n",
    "    g.set_ylim([0.0, 1.0])\n",
    "    g.set_yticks([0, 0.5, 1.0])\n",
    "    g.set_yticklabels([0, 0.5, 1.0], fontsize=fsize)\n",
    "    \n",
    "    if plot_legend:\n",
    "        l = g.legend(fontsize=fsize)\n",
    "    \n",
    "    g.spines['right'].set_visible(False)\n",
    "    g.spines['top'].set_visible(False)\n",
    "    g.set_title('p_deg: '+str(pdeg)+', p_prod: '+str(pprod), fontsize=fsize)\n",
    "    \n",
    "    df2 = pd.DataFrame.from_dict({\n",
    "        'a0' : p_starting_ons,\n",
    "        'ka' : p_kas,\n",
    "        'ks' : p_kss,\n",
    "        'pprod' : p_pprods,\n",
    "        'pdeg' : p_pdegs,\n",
    "        'prot' : p_final_ps\n",
    "    })\n",
    "    \n",
    "    return df, df2"
   ]
  },
  {
   "cell_type": "code",
   "execution_count": 136,
   "metadata": {},
   "outputs": [
    {
     "data": {
      "application/vnd.jupyter.widget-view+json": {
       "model_id": "2adda53be8ca4edf8964e1c9e5a55b0f",
       "version_major": 2,
       "version_minor": 0
      },
      "text/plain": [
       "  0%|          | 0/100 [00:00<?, ?it/s]"
      ]
     },
     "metadata": {},
     "output_type": "display_data"
    },
    {
     "data": {
      "application/vnd.jupyter.widget-view+json": {
       "model_id": "08ea0c0775a14ecebb90a740320c45f8",
       "version_major": 2,
       "version_minor": 0
      },
      "text/plain": [
       "  0%|          | 0/100 [00:00<?, ?it/s]"
      ]
     },
     "metadata": {},
     "output_type": "display_data"
    },
    {
     "data": {
      "application/vnd.jupyter.widget-view+json": {
       "model_id": "ee00033bd5914531ba1591e145a3ae66",
       "version_major": 2,
       "version_minor": 0
      },
      "text/plain": [
       "  0%|          | 0/100 [00:00<?, ?it/s]"
      ]
     },
     "metadata": {},
     "output_type": "display_data"
    },
    {
     "data": {
      "application/vnd.jupyter.widget-view+json": {
       "model_id": "53d3f72fe4a64ffea18ae1785139789c",
       "version_major": 2,
       "version_minor": 0
      },
      "text/plain": [
       "  0%|          | 0/100 [00:00<?, ?it/s]"
      ]
     },
     "metadata": {},
     "output_type": "display_data"
    },
    {
     "data": {
      "application/vnd.jupyter.widget-view+json": {
       "model_id": "f98b3c7302fe4fef8f61fc5b08bb70bb",
       "version_major": 2,
       "version_minor": 0
      },
      "text/plain": [
       "  0%|          | 0/100 [00:00<?, ?it/s]"
      ]
     },
     "metadata": {},
     "output_type": "display_data"
    },
    {
     "name": "stdout",
     "output_type": "stream",
     "text": [
      "CPU times: user 2min 19s, sys: 2.19 s, total: 2min 22s\n",
      "Wall time: 2min 21s\n"
     ]
    },
    {
     "data": {
      "image/png": "[encoded data removed]",
      "text/plain": [
       "<Figure size 396x288 with 1 Axes>"
      ]
     },
     "metadata": {},
     "output_type": "display_data"
    }
   ],
   "source": [
    "%%time\n",
    "\n",
    "fig, ax = plt.subplots(figsize=(5.5,4))\n",
    "\n",
    "df = plot_many_curves(ax, 5000, 100, 1.0, 1.0, True)\n",
    "#df = plot_many_curves(ax, 5, 1, 1.0, 1.0, True)\n",
    "\n",
    "ax.set_title('')\n",
    "ax.legend(title = 'A(0)', loc = 'lower right')\n",
    "\n",
    "fig.savefig('./gillespie_population_stochastic_examples.pdf', bbox_inches = 'tight')"
   ]
  },
  {
   "cell_type": "code",
   "execution_count": null,
   "metadata": {},
   "outputs": [],
   "source": []
  },
  {
   "cell_type": "code",
   "execution_count": null,
   "metadata": {},
   "outputs": [],
   "source": []
  },
  {
   "cell_type": "code",
   "execution_count": null,
   "metadata": {},
   "outputs": [],
   "source": []
  },
  {
   "cell_type": "code",
   "execution_count": null,
   "metadata": {},
   "outputs": [],
   "source": []
  },
  {
   "cell_type": "code",
   "execution_count": null,
   "metadata": {},
   "outputs": [],
   "source": []
  },
  {
   "cell_type": "code",
   "execution_count": null,
   "metadata": {},
   "outputs": [],
   "source": []
  },
  {
   "cell_type": "code",
   "execution_count": null,
   "metadata": {},
   "outputs": [],
   "source": []
  },
  {
   "cell_type": "code",
   "execution_count": null,
   "metadata": {},
   "outputs": [],
   "source": []
  }
 ],
 "metadata": {
  "kernelspec": {
   "display_name": "Python [conda env:crtheory] *",
   "language": "python",
   "name": "conda-env-crtheory-py"
  },
  "language_info": {
   "codemirror_mode": {
    "name": "ipython",
    "version": 3
   },
   "file_extension": ".py",
   "mimetype": "text/x-python",
   "name": "python",
   "nbconvert_exporter": "python",
   "pygments_lexer": "ipython3",
   "version": "3.8.12"
  }
 },
 "nbformat": 4,
 "nbformat_minor": 4
}
